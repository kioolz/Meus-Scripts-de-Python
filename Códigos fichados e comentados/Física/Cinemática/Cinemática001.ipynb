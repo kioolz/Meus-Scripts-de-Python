{
 "metadata": {
  "language_info": {
   "codemirror_mode": {
    "name": "ipython",
    "version": 3
   },
   "file_extension": ".py",
   "mimetype": "text/x-python",
   "name": "python",
   "nbconvert_exporter": "python",
   "pygments_lexer": "ipython3",
   "version": "3.7.4-final"
  },
  "orig_nbformat": 2,
  "kernelspec": {
   "name": "python3",
   "display_name": "Python 3",
   "language": "python"
  }
 },
 "nbformat": 4,
 "nbformat_minor": 2,
 "cells": [
  {
   "cell_type": "code",
   "execution_count": 20,
   "metadata": {},
   "outputs": [
    {
     "output_type": "stream",
     "name": "stdout",
     "text": [
      "1.0\n<class 'float'>\n"
     ]
    }
   ],
   "source": [
    "# Aqui os valores das posições e tempos, final e inicial estão definidos pelo usuário do programa.\n",
    "x = 4.0\n",
    "xo = 2.0\n",
    "t = 3.0\n",
    "to = 1.0\n",
    "\n",
    "#Aqui podemos usar a fórmula para calcular o valor da velocidade.\n",
    "v = (x - xo)/(t - to)\n",
    "print(v)\n",
    "print(type(v))"
   ]
  },
  {
   "cell_type": "code",
   "execution_count": 24,
   "metadata": {},
   "outputs": [
    {
     "output_type": "stream",
     "name": "stdout",
     "text": [
      "[18.0]\n[9.0]\n"
     ]
    }
   ],
   "source": [
    "#Aqui temos o valor para o tempo inicial e a posição inicial\n",
    "posicaoinicial = float(input(\"Insira o valor da posição inicial\"))\n",
    "tempoinicial = float(input(\"Insira o valor para o tempo inicial\"))\n",
    "\n",
    "\n",
    "#Aqui temos duas listas vazias que vão servir para guardar cada valor de posição final.\n",
    "posicoesfinais = []\n",
    "temposfinais = []\n",
    "\n",
    "#Aqui inserimos manualmente o valor dessa posição final que vai ser anexada na lista acima\n",
    "posicaofinal = float(input(\"Insira um valor para a posição final\"))\n",
    "tempofinal = float(input(\"Em que instante de tempo ele chegou a posição final?\"))\n",
    "posicoesfinais.append(posicaofinal)\n",
    "temposfinais.append(tempofinal)\n",
    "\n",
    "#E por fim exibimos a lista com esses valores\n",
    "print(posicoesfinais)\n",
    "print(temposfinais)"
   ]
  },
  {
   "cell_type": "code",
   "execution_count": 25,
   "metadata": {},
   "outputs": [
    {
     "output_type": "stream",
     "name": "stdout",
     "text": [
      "2.0\n[2.0]\n"
     ]
    }
   ],
   "source": [
    "\n",
    "\n",
    "#E aqui, posso usar os valores obtidos na lista para conseguir retirar o valor da velocidade naquele deslocamento.\n",
    "velocidade = (posicoesfinais[0] - posicaoinicial) / (temposfinais[0] - tempoinicial)\n",
    "print(velocidade)\n",
    "velocidades = []\n",
    "velocidades.append(velocidade)\n",
    "print(velocidades)"
   ]
  }
 ]
}