{
 "cells": [
  {
   "cell_type": "code",
   "execution_count": 17,
   "metadata": {},
   "outputs": [],
   "source": [
    "# Essas são as bibliotecas necessárias para o código.\n",
    "import math\n",
    "import matplotlib\n",
    "from matplotlib import pyplot as plt\n",
    "import pandas as pd"
   ]
  },
  {
   "cell_type": "code",
   "execution_count": 18,
   "metadata": {},
   "outputs": [],
   "source": [
    "# Aqui eu vou criar a lista com todos os elementos da tabela periódica e utilizar o comando \n",
    "#list, zip para criar o dicionário que contenha as informações necessárias.\n",
    "Elementos=[\"Hidrogênio\",\"Hélio\",\"Lítio\",\"Berílio\",\"Boro\",\"Carbono\",\"Nitrogênio\",\n",
    "           \"Oxigênio\",\"Flúor\",\"Neônio\",\"Sódio\",\"Magnésio\",\"Alumínio\",\"Silício\",\"Fósforo\",\n",
    "           \"Enxofre\",\"Cloro\",\"Argônio\",\"Potássio\",\"Cálcio\",\"Sc\",\"Ti\",\"V\",\"Cromo\"\n",
    "           ,\"Manganês\",\"Ferro\",\"Cobalto\",\"Níquel\",\"Cobre\",\"Zinco\",\"Gálio\",\"Germânio\",\n",
    "           \"Arsênio\",\"Selênio\",\"Bromo\",\"Kriptônio\",\"Rubídio\",\"Sr\",\"Y\",\"Zr\",\"Nb\",\"Mo\",\n",
    "           \"Tc\",\"Ru\",\"Rh\",\"Pd\",\"Ag\",\"Cd\",\"In\",\"Sn\",\"Sb\",\"Te\",\"I\",\"Xe\",\"Cs\",\"Ba\",\"La\",\n",
    "           \"Ce\",\"Pr\",\"Nd\",\"Pm\",\"Sm\",\"Eu\",\"Gd\",\"Tb\",\"Dy\",\"Ho\",\"Er\",\"Tm\",\"Yb\",\"Lu\",\"Hf\",\"Ta\",\n",
    "           \"W\",\"Re\",\"Os\",\"Ir\",\"Pt\",\"Au\",\"Mercúrio\",\"TI\",\"Chumbo\",\"Bi\",\"Po\",\"At\",\"Rn\",\"Fr\",\"Ra\",\"Ac\",\"Th\"\n",
    "           ,\"Pa\",\"Urânio\",\"Np\",\"Pu\",\"Am\",\"Cm\",\"Bk\",\"Cf\",\"Es\",\"Fm\",\"Md\",\"No\",\"Lr\",\"Rf\",\"Db\",\"Sg\",\"Bh\",\"Hs\"\n",
    "           ,\"Mt\",\"Ds\",\"Rg\",\"Cn\",\"Nh\",\"Fl\",\"Mc\",\"Lv\",\"Ts\",\"Og\"]"
   ]
  },
  {
   "cell_type": "code",
   "execution_count": 19,
   "metadata": {},
   "outputs": [],
   "source": [
    "#Isso é um vetor vazio que vai armazenar o número de protons\n",
    "Numerodeprotons=[] #Numero de protons em um elemento Z\n",
    "for i in range(1,119):    \n",
    "    Numerodeprotons.append(i)"
   ]
  },
  {
   "cell_type": "code",
   "execution_count": 20,
   "metadata": {},
   "outputs": [],
   "source": [
    "#Essas são as massas atômicas dos elementos da tabela periódica \n",
    "Massasatomicas=[1.0,4.0,6.9,9.0,10.8,12.0,14.0,16.0,\n",
    "                19.0,20.1,\n",
    "               23.0,24.3,27.0,28,30.9,32.0,35.4,39.9,39.0,40.0,44.9,45.8,50.9,51.9,\n",
    "                54.9,55.8,58.9,58.69,63.54,65.3,69.72,72.6,74.9,78.9,79.9,83.7,85.4,87.6,\n",
    "                88.9,91.2,92.9,95.9,98,101.0,102.9,106.4,107.8,112.4,114.8,118.7,\n",
    "                121.7,127.6,126.9,131.2,132.9,137.3,138.9,140.1,140.9,144.4,145,150.3,\n",
    "                151.9,151.9,157.25,158.9,162.5,164.9,167.2,168.9,173.0,174.9,178.4,180.9,\n",
    "                183.8,186.2,190.2,182.2,195.0,196.9,200.5,204.3,207.2,208.9,209,210,222,223,\n",
    "                226,227,232.0,231.0,238.0,237,244,243,247,247,251,252,257,258,259,262,\n",
    "                267,268,269,270,269,278,281,281,285,286,289,288,293,294] # // massa //  A = Z + N "
   ]
  },
  {
   "cell_type": "code",
   "execution_count": 21,
   "metadata": {},
   "outputs": [],
   "source": [
    "#Agora é necessário preencher uma tabela que me dê o número de neutrons de cada elemento\n",
    "Numerodeneutrons=[]\n",
    "#o número de neutrons não é correspondente ao número de prótons na proporção 1:1 ou quaisquer proporções\n",
    "#razoavelmente intuitivas de se imaginar, por tanto vou preencher sua lista separadamente em outro momento\n",
    "#Contador\n",
    "i=0\n",
    "for i in range(0,len(Numerodeprotons)):\n",
    "    Numerodeneutrons.append(Massasatomicas[i]-Numerodeprotons[i])"
   ]
  },
  {
   "cell_type": "code",
   "execution_count": 22,
   "metadata": {
    "scrolled": true
   },
   "outputs": [],
   "source": [
    "Amostra=[]\n",
    "i=0\n",
    "while not (i==118):\n",
    "    Amostra.append(1)\n",
    "    i=i+1\n",
    "i=0"
   ]
  },
  {
   "cell_type": "code",
   "execution_count": 29,
   "metadata": {},
   "outputs": [],
   "source": [
    "Numerodegramasde1mol=[]\n",
    "i=0\n",
    "while not(i==118):\n",
    "    Numerodegramasde1mol.append(Massasatomicas[i]*Amostra[i])\n",
    "    i=i+1\n",
    "Constantesdeavogrado=[]\n",
    "i=0\n",
    "while not(i==118):\n",
    "    Constantesdeavogrado.append(6.02*(10**23))\n",
    "    i=i+1\n",
    "Numerodemolsde1grama=[]\n",
    "i=0\n",
    "while not(i==118):\n",
    "    Numerodemolsde1grama.append(Amostra[i]/Massasatomicas[i])\n",
    "    i=i+1   \n",
    "\n",
    "Massasunificadas=[]\n",
    "i=0\n",
    "while not(i==118):\n",
    "    Massasunificadas.append(Massasatomicas[i]/(Constantesdeavogrado[i]/1000))\n",
    "    i=i+1"
   ]
  },
  {
   "cell_type": "code",
   "execution_count": null,
   "metadata": {},
   "outputs": [],
   "source": [
    "u=1.6605*(10**-27) #kg\n",
    "us=[]\n",
    "i=0\n",
    "while not(i==118):\n",
    "    us.append(u)\n",
    "    i=i+1"
   ]
  },
  {
   "cell_type": "code",
   "execution_count": null,
   "metadata": {},
   "outputs": [],
   "source": [
    "energiasderepouso=[]\n",
    "i=0\n",
    "while not(i==118):\n",
    "    energiasderepouso.append(Massasunificadas[i]*(veldaluzs[i]**2))\n",
    "    i=i+1"
   ]
  },
  {
   "cell_type": "code",
   "execution_count": null,
   "metadata": {},
   "outputs": [],
   "source": []
  },
  {
   "cell_type": "code",
   "execution_count": 24,
   "metadata": {},
   "outputs": [],
   "source": [
    "veldaluzs=[]\n",
    "i=0\n",
    "while not (i==118):\n",
    "    veldaluzs.append(2.997925*(10**8))\n",
    "    i=i+1"
   ]
  },
  {
   "cell_type": "code",
   "execution_count": 25,
   "metadata": {},
   "outputs": [],
   "source": []
  },
  {
   "cell_type": "code",
   "execution_count": 34,
   "metadata": {},
   "outputs": [
    {
     "data": {
      "text/html": [
       "<div>\n",
       "<style scoped>\n",
       "    .dataframe tbody tr th:only-of-type {\n",
       "        vertical-align: middle;\n",
       "    }\n",
       "\n",
       "    .dataframe tbody tr th {\n",
       "        vertical-align: top;\n",
       "    }\n",
       "\n",
       "    .dataframe thead th {\n",
       "        text-align: right;\n",
       "    }\n",
       "</style>\n",
       "<table border=\"1\" class=\"dataframe\">\n",
       "  <thead>\n",
       "    <tr style=\"text-align: right;\">\n",
       "      <th></th>\n",
       "      <th>Elementos</th>\n",
       "      <th>Numerodeprotons</th>\n",
       "      <th>Numero de neutrons</th>\n",
       "      <th>Peso atômico</th>\n",
       "      <th>Numero de gramas em 1 mol</th>\n",
       "      <th>Constantesdeavogrado</th>\n",
       "      <th>Massasunificadas</th>\n",
       "      <th>Energias de repouso</th>\n",
       "    </tr>\n",
       "  </thead>\n",
       "  <tbody>\n",
       "    <tr>\n",
       "      <td>0</td>\n",
       "      <td>Hidrogênio</td>\n",
       "      <td>1</td>\n",
       "      <td>0.0</td>\n",
       "      <td>1.0</td>\n",
       "      <td>1.0</td>\n",
       "      <td>6.020000e+23</td>\n",
       "      <td>1.661130e-27</td>\n",
       "      <td>1.492949e-10</td>\n",
       "    </tr>\n",
       "    <tr>\n",
       "      <td>1</td>\n",
       "      <td>Hélio</td>\n",
       "      <td>2</td>\n",
       "      <td>2.0</td>\n",
       "      <td>4.0</td>\n",
       "      <td>4.0</td>\n",
       "      <td>6.020000e+23</td>\n",
       "      <td>6.644518e-27</td>\n",
       "      <td>5.971797e-10</td>\n",
       "    </tr>\n",
       "    <tr>\n",
       "      <td>2</td>\n",
       "      <td>Lítio</td>\n",
       "      <td>3</td>\n",
       "      <td>3.9</td>\n",
       "      <td>6.9</td>\n",
       "      <td>6.9</td>\n",
       "      <td>6.020000e+23</td>\n",
       "      <td>1.146179e-26</td>\n",
       "      <td>1.030135e-09</td>\n",
       "    </tr>\n",
       "    <tr>\n",
       "      <td>3</td>\n",
       "      <td>Berílio</td>\n",
       "      <td>4</td>\n",
       "      <td>5.0</td>\n",
       "      <td>9.0</td>\n",
       "      <td>9.0</td>\n",
       "      <td>6.020000e+23</td>\n",
       "      <td>1.495017e-26</td>\n",
       "      <td>1.343654e-09</td>\n",
       "    </tr>\n",
       "    <tr>\n",
       "      <td>4</td>\n",
       "      <td>Boro</td>\n",
       "      <td>5</td>\n",
       "      <td>5.8</td>\n",
       "      <td>10.8</td>\n",
       "      <td>10.8</td>\n",
       "      <td>6.020000e+23</td>\n",
       "      <td>1.794020e-26</td>\n",
       "      <td>1.612385e-09</td>\n",
       "    </tr>\n",
       "    <tr>\n",
       "      <td>...</td>\n",
       "      <td>...</td>\n",
       "      <td>...</td>\n",
       "      <td>...</td>\n",
       "      <td>...</td>\n",
       "      <td>...</td>\n",
       "      <td>...</td>\n",
       "      <td>...</td>\n",
       "      <td>...</td>\n",
       "    </tr>\n",
       "    <tr>\n",
       "      <td>113</td>\n",
       "      <td>Fl</td>\n",
       "      <td>114</td>\n",
       "      <td>172.0</td>\n",
       "      <td>286.0</td>\n",
       "      <td>286.0</td>\n",
       "      <td>6.020000e+23</td>\n",
       "      <td>4.750831e-25</td>\n",
       "      <td>4.269835e-08</td>\n",
       "    </tr>\n",
       "    <tr>\n",
       "      <td>114</td>\n",
       "      <td>Mc</td>\n",
       "      <td>115</td>\n",
       "      <td>174.0</td>\n",
       "      <td>289.0</td>\n",
       "      <td>289.0</td>\n",
       "      <td>6.020000e+23</td>\n",
       "      <td>4.800664e-25</td>\n",
       "      <td>4.314623e-08</td>\n",
       "    </tr>\n",
       "    <tr>\n",
       "      <td>115</td>\n",
       "      <td>Lv</td>\n",
       "      <td>116</td>\n",
       "      <td>172.0</td>\n",
       "      <td>288.0</td>\n",
       "      <td>288.0</td>\n",
       "      <td>6.020000e+23</td>\n",
       "      <td>4.784053e-25</td>\n",
       "      <td>4.299694e-08</td>\n",
       "    </tr>\n",
       "    <tr>\n",
       "      <td>116</td>\n",
       "      <td>Ts</td>\n",
       "      <td>117</td>\n",
       "      <td>176.0</td>\n",
       "      <td>293.0</td>\n",
       "      <td>293.0</td>\n",
       "      <td>6.020000e+23</td>\n",
       "      <td>4.867110e-25</td>\n",
       "      <td>4.374341e-08</td>\n",
       "    </tr>\n",
       "    <tr>\n",
       "      <td>117</td>\n",
       "      <td>Og</td>\n",
       "      <td>118</td>\n",
       "      <td>176.0</td>\n",
       "      <td>294.0</td>\n",
       "      <td>294.0</td>\n",
       "      <td>6.020000e+23</td>\n",
       "      <td>4.883721e-25</td>\n",
       "      <td>4.389271e-08</td>\n",
       "    </tr>\n",
       "  </tbody>\n",
       "</table>\n",
       "<p>118 rows × 8 columns</p>\n",
       "</div>"
      ],
      "text/plain": [
       "      Elementos  Numerodeprotons  Numero de neutrons  Peso atômico  \\\n",
       "0    Hidrogênio                1                 0.0           1.0   \n",
       "1         Hélio                2                 2.0           4.0   \n",
       "2         Lítio                3                 3.9           6.9   \n",
       "3       Berílio                4                 5.0           9.0   \n",
       "4          Boro                5                 5.8          10.8   \n",
       "..          ...              ...                 ...           ...   \n",
       "113          Fl              114               172.0         286.0   \n",
       "114          Mc              115               174.0         289.0   \n",
       "115          Lv              116               172.0         288.0   \n",
       "116          Ts              117               176.0         293.0   \n",
       "117          Og              118               176.0         294.0   \n",
       "\n",
       "     Numero de gramas em 1 mol  Constantesdeavogrado  Massasunificadas  \\\n",
       "0                          1.0          6.020000e+23      1.661130e-27   \n",
       "1                          4.0          6.020000e+23      6.644518e-27   \n",
       "2                          6.9          6.020000e+23      1.146179e-26   \n",
       "3                          9.0          6.020000e+23      1.495017e-26   \n",
       "4                         10.8          6.020000e+23      1.794020e-26   \n",
       "..                         ...                   ...               ...   \n",
       "113                      286.0          6.020000e+23      4.750831e-25   \n",
       "114                      289.0          6.020000e+23      4.800664e-25   \n",
       "115                      288.0          6.020000e+23      4.784053e-25   \n",
       "116                      293.0          6.020000e+23      4.867110e-25   \n",
       "117                      294.0          6.020000e+23      4.883721e-25   \n",
       "\n",
       "     Energias de repouso  \n",
       "0           1.492949e-10  \n",
       "1           5.971797e-10  \n",
       "2           1.030135e-09  \n",
       "3           1.343654e-09  \n",
       "4           1.612385e-09  \n",
       "..                   ...  \n",
       "113         4.269835e-08  \n",
       "114         4.314623e-08  \n",
       "115         4.299694e-08  \n",
       "116         4.374341e-08  \n",
       "117         4.389271e-08  \n",
       "\n",
       "[118 rows x 8 columns]"
      ]
     },
     "execution_count": 34,
     "metadata": {},
     "output_type": "execute_result"
    }
   ],
   "source": [
    "df={\"Elementos\":Elementos,\"Numerodeprotons\":Numerodeprotons,\n",
    "    \"Numero de neutrons\":Numerodeneutrons,\n",
    "    \"Peso atômico\":Massasatomicas,\"Numero de gramas em 1 mol\":Numerodegramasde1mol,\n",
    "    \"Constantesdeavogrado\":Constantesdeavogrado,\n",
    "    \"Massasunificadas\":Massasunificadas,\"Energias de repouso\":energiasderepouso}\n",
    "pd.DataFrame(df)\n"
   ]
  },
  {
   "cell_type": "code",
   "execution_count": 35,
   "metadata": {},
   "outputs": [
    {
     "ename": "AttributeError",
     "evalue": "'dict' object has no attribute 'head'",
     "output_type": "error",
     "traceback": [
      "\u001b[1;31m---------------------------------------------------------------------------\u001b[0m",
      "\u001b[1;31mAttributeError\u001b[0m                            Traceback (most recent call last)",
      "\u001b[1;32m<ipython-input-35-6d158aa764f8>\u001b[0m in \u001b[0;36m<module>\u001b[1;34m\u001b[0m\n\u001b[1;32m----> 1\u001b[1;33m \u001b[0mdf\u001b[0m\u001b[1;33m.\u001b[0m\u001b[0mhead\u001b[0m\u001b[1;33m(\u001b[0m\u001b[1;36m12\u001b[0m\u001b[1;33m)\u001b[0m\u001b[1;33m\u001b[0m\u001b[1;33m\u001b[0m\u001b[0m\n\u001b[0m",
      "\u001b[1;31mAttributeError\u001b[0m: 'dict' object has no attribute 'head'"
     ]
    }
   ],
   "source": [
    "\n",
    "df.head(12)"
   ]
  },
  {
   "cell_type": "code",
   "execution_count": null,
   "metadata": {},
   "outputs": [],
   "source": []
  },
  {
   "cell_type": "code",
   "execution_count": null,
   "metadata": {},
   "outputs": [],
   "source": []
  },
  {
   "cell_type": "code",
   "execution_count": null,
   "metadata": {},
   "outputs": [],
   "source": [
    "\n",
    "print(energiasderepouso)"
   ]
  },
  {
   "cell_type": "code",
   "execution_count": null,
   "metadata": {},
   "outputs": [],
   "source": [
    "list(zip(Elementos,Numerodeprotons,energiasderepouso))\n",
    "pd.DataFrame()"
   ]
  },
  {
   "cell_type": "code",
   "execution_count": null,
   "metadata": {},
   "outputs": [],
   "source": [
    "list(zip(Elementos,Numerodeprotons,Massasatomicas,Massasunificadas))"
   ]
  },
  {
   "cell_type": "code",
   "execution_count": null,
   "metadata": {},
   "outputs": [],
   "source": []
  },
  {
   "cell_type": "code",
   "execution_count": null,
   "metadata": {},
   "outputs": [],
   "source": [
    "list(zip(Elementos,Numerodeprotons,Massasatomicas,Numerodeneutrons,Numerodegramasde1mol,Numerodemolsde1grama))"
   ]
  },
  {
   "cell_type": "code",
   "execution_count": null,
   "metadata": {},
   "outputs": [],
   "source": [
    "plt.plot(Numerodeprotons,Numerodeneutrons)\n",
    "plt.title(\"Z x N\")\n",
    "plt.xlabel(\"Número de protons\")\n",
    "plt.ylabel(\"Número de neutrons\")"
   ]
  },
  {
   "cell_type": "code",
   "execution_count": null,
   "metadata": {},
   "outputs": [],
   "source": [
    "plt.plot(Numerodegramasde1mol,Numerodemolsde1grama)"
   ]
  },
  {
   "cell_type": "code",
   "execution_count": null,
   "metadata": {},
   "outputs": [],
   "source": [
    "plt.plot(Numerodemolsde1grama,Numerodegramasde1mol)"
   ]
  },
  {
   "cell_type": "code",
   "execution_count": null,
   "metadata": {},
   "outputs": [],
   "source": [
    "plt.plot(Numerodeprotons,energiasderepouso)"
   ]
  },
  {
   "cell_type": "code",
   "execution_count": null,
   "metadata": {},
   "outputs": [],
   "source": [
    "Ns=[] #Meu Ns é cada valor de N = A - Z \n",
    "#E com o comando abaixo podemos relacionar um gráfico Z x N preenchendo outra lista auxiliar.\n",
    "for i in range(0,i+1):\n",
    "    Ns.append(Massasatomicas[i]-Numerodeprotons[i])\n",
    "print(\"Aqui está Ns\", Ns)\n",
    "\n",
    "plt.plot(Numerodeprotons,Ns)"
   ]
  },
  {
   "cell_type": "code",
   "execution_count": null,
   "metadata": {},
   "outputs": [],
   "source": []
  },
  {
   "cell_type": "code",
   "execution_count": null,
   "metadata": {},
   "outputs": [],
   "source": []
  },
  {
   "cell_type": "code",
   "execution_count": null,
   "metadata": {},
   "outputs": [],
   "source": []
  },
  {
   "cell_type": "code",
   "execution_count": null,
   "metadata": {},
   "outputs": [],
   "source": []
  },
  {
   "cell_type": "code",
   "execution_count": null,
   "metadata": {},
   "outputs": [],
   "source": []
  },
  {
   "cell_type": "code",
   "execution_count": null,
   "metadata": {},
   "outputs": [],
   "source": []
  },
  {
   "cell_type": "code",
   "execution_count": null,
   "metadata": {},
   "outputs": [],
   "source": [
    "Massadoproton=[]\n",
    "i=0\n",
    "while not (i==118):\n",
    "    Massadoproton.append(1.6726*(10**-27))\n",
    "    i=i+1\n",
    "print(Massadoproton)\n",
    "\n",
    "Massadoneutron=[]\n",
    "i=0\n",
    "while not (i==118):\n",
    "    Massadoneutron.append(1.6750*(10**-27))\n",
    "    i=i+1\n",
    "print(Massadoneutron)\n",
    "\n",
    "Massadoeletron=[]\n",
    "i=0\n",
    "while not (i==118):\n",
    "    Massadoeletron.append(9.109*(10**-31))\n",
    "    i=i+1"
   ]
  },
  {
   "cell_type": "code",
   "execution_count": null,
   "metadata": {},
   "outputs": [],
   "source": []
  },
  {
   "cell_type": "code",
   "execution_count": null,
   "metadata": {},
   "outputs": [],
   "source": []
  },
  {
   "cell_type": "code",
   "execution_count": null,
   "metadata": {},
   "outputs": [],
   "source": []
  },
  {
   "cell_type": "code",
   "execution_count": null,
   "metadata": {},
   "outputs": [],
   "source": []
  },
  {
   "cell_type": "code",
   "execution_count": null,
   "metadata": {},
   "outputs": [],
   "source": []
  },
  {
   "cell_type": "code",
   "execution_count": null,
   "metadata": {},
   "outputs": [],
   "source": []
  },
  {
   "cell_type": "code",
   "execution_count": null,
   "metadata": {},
   "outputs": [],
   "source": []
  },
  {
   "cell_type": "code",
   "execution_count": null,
   "metadata": {},
   "outputs": [],
   "source": [
    "\n"
   ]
  },
  {
   "cell_type": "code",
   "execution_count": null,
   "metadata": {},
   "outputs": [],
   "source": []
  },
  {
   "cell_type": "code",
   "execution_count": null,
   "metadata": {},
   "outputs": [],
   "source": []
  },
  {
   "cell_type": "code",
   "execution_count": null,
   "metadata": {},
   "outputs": [],
   "source": [
    "#este pra função periodica aleatoria\n",
    "Nx=[]\n",
    "for i in range(0,i+1):\n",
    "    Nx.append(Numerodemassa[i]*math.cos(i*23)-Numerodeprotons[i]*math.sin(i*21))\n",
    "    \n",
    "print(\"Aqui está Nx\", Nx)\n",
    "plt.plot(Numerodeprotons,Nx)"
   ]
  },
  {
   "cell_type": "code",
   "execution_count": null,
   "metadata": {},
   "outputs": [],
   "source": [
    "#Teste pra outras operações\n",
    "TesteNZ=[]\n",
    "TesteNn=[]\n",
    "TesteNm=[]\n",
    "Nomedoselementos=[\"Hidrogênio\",\"Hélio\",\"Lítio\"]\n",
    "for j in range (1,4):\n",
    "    TesteNZ.append(j)\n",
    "    TesteNn.append(j)\n",
    "for j in range (0,len(TesteNZ)):\n",
    "    TesteNm.append(TesteNZ[j]+TesteNn[j])\n",
    "print(TesteNm)"
   ]
  },
  {
   "cell_type": "code",
   "execution_count": null,
   "metadata": {},
   "outputs": [],
   "source": []
  },
  {
   "cell_type": "code",
   "execution_count": null,
   "metadata": {},
   "outputs": [],
   "source": []
  },
  {
   "cell_type": "code",
   "execution_count": null,
   "metadata": {},
   "outputs": [],
   "source": []
  },
  {
   "cell_type": "code",
   "execution_count": null,
   "metadata": {},
   "outputs": [],
   "source": []
  }
 ],
 "metadata": {
  "kernelspec": {
   "display_name": "Python 3",
   "language": "python",
   "name": "python3"
  },
  "language_info": {
   "codemirror_mode": {
    "name": "ipython",
    "version": 3
   },
   "file_extension": ".py",
   "mimetype": "text/x-python",
   "name": "python",
   "nbconvert_exporter": "python",
   "pygments_lexer": "ipython3",
   "version": "3.7.4"
  }
 },
 "nbformat": 4,
 "nbformat_minor": 2
}
