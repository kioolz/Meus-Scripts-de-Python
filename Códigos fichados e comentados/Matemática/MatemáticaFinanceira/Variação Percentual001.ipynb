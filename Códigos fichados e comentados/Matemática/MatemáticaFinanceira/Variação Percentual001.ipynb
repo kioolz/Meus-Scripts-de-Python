{
 "metadata": {
  "language_info": {
   "codemirror_mode": {
    "name": "ipython",
    "version": 3
   },
   "file_extension": ".py",
   "mimetype": "text/x-python",
   "name": "python",
   "nbconvert_exporter": "python",
   "pygments_lexer": "ipython3",
   "version": "3.7.4-final"
  },
  "orig_nbformat": 2,
  "kernelspec": {
   "name": "python3",
   "display_name": "Python 3",
   "language": "python"
  }
 },
 "nbformat": 4,
 "nbformat_minor": 2,
 "cells": [
  {
   "cell_type": "code",
   "execution_count": null,
   "metadata": {},
   "outputs": [],
   "source": [
    "a = float(input(\"Insira o valor da variável inicial\"))\n",
    "b = float(input(\"Insira o valor final\"))\n",
    "V = []\n",
    "V.append(a)\n",
    "V.append(b)\n",
    "print(\"Estas são os números que vão evoluindo\")\n",
    "print(V)\n",
    "j = []\n",
    "c = []\n",
    "i=0"
   ]
  },
  {
   "cell_type": "code",
   "execution_count": null,
   "metadata": {},
   "outputs": [],
   "source": [
    "def VariacaoPercentual(a,b):\n",
    "    j = (((b/a)-1)*100)\n",
    "    return j\n",
    "c.append(VariacaoPercentual(a,b))\n",
    "print(c)\n",
    "print(a)\n",
    "print(b)"
   ]
  },
  {
   "cell_type": "code",
   "execution_count": null,
   "metadata": {},
   "outputs": [],
   "source": [
    "print (\"Esses são os valores numéricos gerados até agora\")\n",
    "print(V)\n",
    "print (\"E essas são as respectivas variações percentuais\")\n",
    "print(c)\n",
    "d.append(c[i])\n",
    "while (len(V)==(len(c)+1)):\n",
    "    a = b\n",
    "    b = float(input(\"Insira um novo valor final\"))\n",
    "    V.append(b)\n",
    "    print (\"Esses são os valores numéricos gerados até agora\")\n",
    "    print(V)\n",
    "    c.append(VariacaoPercentual(a,b))\n",
    "    print (\"E essas são as respectivas variações percentuais\")\n",
    "    print(c)"
   ]
  },
  {
   "cell_type": "code",
   "execution_count": null,
   "metadata": {},
   "outputs": [],
   "source": [
    "print(c[i])\n",
    "print(len(c))"
   ]
  },
  {
   "cell_type": "code",
   "execution_count": null,
   "metadata": {},
   "outputs": [],
   "source": [
    "if i == 0:\n",
    "    d.append(c[i])\n",
    "for i in range(len(c)):\n",
    "    a = b\n",
    "    b = float(input(\"Insira o novo valor final\"))\n",
    "    V.append(b)\n",
    "    d.append(VariacaoPercentual(a,b))\n",
    "    \n",
    "print(d)"
   ]
  },
  {
   "cell_type": "code",
   "execution_count": null,
   "metadata": {},
   "outputs": [],
   "source": [
    "print (\"Esses são os valores numéricos gerados até agora\")\n",
    "print(V)\n",
    "print (\"E essas são as respectivas variações percentuais\")\n",
    "print(d)"
   ]
  },
  {
   "cell_type": "code",
   "execution_count": null,
   "metadata": {},
   "outputs": [],
   "source": [
    "for i in range(len(c)):\n",
    "    a = b\n",
    "    b = float(input(\"Insira o novo valor final\"))\n",
    "    V.append(b)\n",
    "    d.append(VariacaoPercentual(a,b))\n",
    "print(d)"
   ]
  },
  {
   "cell_type": "code",
   "execution_count": null,
   "metadata": {},
   "outputs": [],
   "source": [
    "print (\"Esses são os valores numéricos gerados até agora\")\n",
    "print(V)\n",
    "print (\"E essas são as respectivas variações percentuais\")\n",
    "print(d)"
   ]
  },
  {
   "cell_type": "code",
   "execution_count": null,
   "metadata": {},
   "outputs": [],
   "source": [
    "for i in range(len(c)):\n",
    "    print (\"Teste\")\n",
    "for i in range (len(d)):\n",
    "    print(\"Tested\")"
   ]
  }
 ]
}