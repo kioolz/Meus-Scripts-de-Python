{
 "metadata": {
  "language_info": {
   "codemirror_mode": {
    "name": "ipython",
    "version": 3
   },
   "file_extension": ".py",
   "mimetype": "text/x-python",
   "name": "python",
   "nbconvert_exporter": "python",
   "pygments_lexer": "ipython3",
   "version": "3.7.4-final"
  },
  "orig_nbformat": 2,
  "kernelspec": {
   "name": "python3",
   "display_name": "Python 3",
   "language": "python"
  }
 },
 "nbformat": 4,
 "nbformat_minor": 2,
 "cells": [
  {
   "cell_type": "code",
   "execution_count": 46,
   "metadata": {},
   "outputs": [
    {
     "output_type": "stream",
     "name": "stdout",
     "text": [
      "50.0\n[-92.20779220779221]\n"
     ]
    }
   ],
   "source": [
    "a = float(input(\"Insira o valor da variável inicial\"))\n",
    "b = float(input(\"Insira o valor final\"))\n",
    "c = []\n",
    "def VariacaoPercentual(a,b):\n",
    "    j = (((a/b)-1)*100)\n",
    "    return j\n",
    "c.append(j)"
   ]
  },
  {
   "cell_type": "code",
   "execution_count": 40,
   "metadata": {},
   "outputs": [
    {
     "output_type": "stream",
     "name": "stdout",
     "text": [
      "19.999999999999996\n"
     ]
    },
    {
     "output_type": "execute_result",
     "data": {
      "text/plain": [
       "NoneType"
      ]
     },
     "metadata": {},
     "execution_count": 40
    }
   ],
   "source": [
    "type(VariacaoPercentual(a,b))"
   ]
  }
 ]
}